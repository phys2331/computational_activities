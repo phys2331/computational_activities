{
 "cells": [
  {
   "cell_type": "markdown",
   "metadata": {},
   "source": [
    "## <center> The Physics II Student's Guide to Vectors \n",
    "    \n",
    "...and possibly the galaxy.\n",
    "\n",
    "___\n",
    "\n",
    "\n",
    "In three dimensions, a **vector** is a set of three numbers:   <x, y, z>\n",
    "\n",
    "This is different than a **scalar**, which is a single number that represents  a quantity. \n",
    "\n",
    "**Position** and **Velocity** can both be vector quantities.\n",
    "\n",
    "#### <center> Position vectors\n",
    "    \n",
    "### <center> "
   ]
  },
  {
   "cell_type": "code",
   "execution_count": null,
   "metadata": {},
   "outputs": [],
   "source": []
  }
 ],
 "metadata": {
  "kernelspec": {
   "display_name": "Python 3",
   "language": "python",
   "name": "python3"
  },
  "language_info": {
   "codemirror_mode": {
    "name": "ipython",
    "version": 3
   },
   "file_extension": ".py",
   "mimetype": "text/x-python",
   "name": "python",
   "nbconvert_exporter": "python",
   "pygments_lexer": "ipython3",
   "version": "3.7.4"
  }
 },
 "nbformat": 4,
 "nbformat_minor": 2
}
