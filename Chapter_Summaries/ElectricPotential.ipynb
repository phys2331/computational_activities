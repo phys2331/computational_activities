{
 "cells": [
  {
   "cell_type": "markdown",
   "metadata": {},
   "source": [
    "## <center> Electric Potential\n",
    "___\n",
    "    \n",
    "\n",
    "\n",
    "### <center> Potential Energy\n",
    "    \n",
    "___\n",
    "\n",
    "* Choose the system and the surroundings. \n",
    "\n",
    "* Particles by themselves do not have potential energy.\n",
    "\n",
    "    * Needs interaction with other parts of the chosen system.\n",
    "    \n",
    "* Kinetic energy: $KE \\approx \\frac{1}{2} mv^{2}$\n",
    "    \n",
    "* The KE of a particle can change if work is done on the particle.\n",
    "\n",
    "**Work**\n",
    "\n",
    "* Scalar\n",
    "\n",
    "* Units: joules\n",
    "\n",
    "* Equation: \n",
    "\n",
    "<center> $W = \\int_{a}^{b}\\vec{F} \\bullet \\vec{dl}$\n",
    "\n",
    "* $\\vec{F}$ = force on the particle\n",
    "\n",
    "* $\\vec{dl}$ = displacement due to the force\n",
    "\n",
    "**Conservation of Energy**\n",
    "\n",
    "\\begin{equation*}\n",
    "\\Delta KE + \\Delta U = 0\n",
    "\\end{equation*}\n",
    "\n",
    "* $\\Delta U = -W$\n",
    "\n",
    "* $KE = \\frac{1}{2}mv^{2}$\n",
    "\n",
    "### <center> Uniform Fields\n",
    "    \n",
    "___\n",
    "\n",
    "### <center> Nonuniform Fields\n",
    "    \n",
    "___\n",
    "\n",
    "### <center> Direction and Paths\n",
    "    \n",
    "___\n",
    "\n",
    "### <center> Insulators\n",
    "    \n",
    "___\n",
    "\n",
    "### <center> Energy Density"
   ]
  },
  {
   "cell_type": "code",
   "execution_count": null,
   "metadata": {},
   "outputs": [],
   "source": []
  }
 ],
 "metadata": {
  "kernelspec": {
   "display_name": "Python 3",
   "language": "python",
   "name": "python3"
  },
  "language_info": {
   "codemirror_mode": {
    "name": "ipython",
    "version": 3
   },
   "file_extension": ".py",
   "mimetype": "text/x-python",
   "name": "python",
   "nbconvert_exporter": "python",
   "pygments_lexer": "ipython3",
   "version": "3.7.3"
  }
 },
 "nbformat": 4,
 "nbformat_minor": 2
}
