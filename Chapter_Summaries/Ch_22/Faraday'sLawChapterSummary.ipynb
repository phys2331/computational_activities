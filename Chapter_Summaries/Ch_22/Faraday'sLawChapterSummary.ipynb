{
 "cells": [
  {
   "cell_type": "markdown",
   "metadata": {},
   "source": [
    "## <center> Faraday's Law Chapter Summary\n",
    "-----------\n",
    "    \n",
    "#### <center> Curly Electric Fields\n",
    "-----------\n",
    "    \n",
    "When the current is constant, $B_{1}$ is constant in time and the electric field and magnetic fields **outside** the solenoid will be *essentially* **zero**. When the current is varied, however, there is a **curly electric field** both outside and inside the solenoid. Note that the magnetic field still does not exist outside of the solenoid with a varying current, as shown in **Figure 1**.\n",
    "\n",
    "![](CurlyEField.png \"Curly Electric Field Produced by Changing Current\")\n",
    "**<center> Figure 1. A current varying over time in a solenoid produces a curly electric field.**\n",
    "    \n",
    "Inside the solenoid, the electric field is *proportional* to r (distance from the axis). This means that as the point of interest nears the axis (decreasing r), the electric field is also decreasing. \n",
    "\n",
    "Outside the solenoid, the curly electric field is proportional to $\\frac{1}{r}$. In contrast with the inside electric field, the curly electric field on the outside gets smaller as the point of interest moves away from the solenoid.\n",
    "\n",
    "\n",
    "\n"
   ]
  },
  {
   "cell_type": "markdown",
   "metadata": {},
   "source": [
    ">>>**<u>Question** Since the curly electric field is not associated with stationary charges, it is a non-Coulomb field *Insert Python Quiz Question* $\\vec{E_{NC}}$. Additionally, a \"round-trip\" integral of a curly electric field will not be equal to zero ($\\oint \\vec{E_{NC}}\\cdot\\vec{dl}\\neq 0$), like in the case of an electric field due to stationary charges.\n",
    "\n",
    ">>>**<u>Question** Based on **Figure 2** below, what can you deduce about what determines the direction of $\\vec{E_{NC}}$? *direction of B1*, *directon of the rate of change of B1*, *Insert Python question with answer explanation*.\n",
    "\n",
    "![](DirectionCurlyEField.png \"Magnetic field decreasing and increasing\")\n",
    "**<center> Figure 2. Four varying magnetic fields and rate of change.**\n",
    "\n",
    "**<u>Right-hand rule** Point the thumb of your right hand in the direction of the rate of change of the magnetic field ($\\frac{-d\\vec{B_{1}}}{dt}$) and curl fingers toward your palm. The direction in which the tip of the fingers are pointing is the direction of the curly electric field. \n",
    "\n",
    ">>>**<u>Question** If $\\vec{E_{NC}}$ is curling to the left, which direction is $\\frac{-d\\vec{B_{1}}}{dt}$ pointing?\n",
    "    \n",
    "To find the direction of the rate of change of the magnetic field, change $\\frac{-d\\vec{B_{1}}}{dt}$ to $\\frac{-\\Delta \\vec{B_{1}}}{\\Delta t}$, where $\\Delta t$ is a small, finite time interval. Then, the direction of $\\frac{-\\Delta \\vec{B_{1}}}{\\Delta t}$ = the direction of $-\\Delta \\vec{B_{1}}$.\n",
    "\n",
    "A solenoid with a ring over it will produce a current in the ring. The resulting $\\vec{E_{NC}}$ will be in the same direction, as shown in **Figure 3**. Relate this to a battery, wire, and current.\n",
    "\n",
    "![](MetalRingSolenoid.png \"The Effect of a Solenoid on a Metal Ring\")\n",
    "\n",
    "**<center> Figure 3. The Effect of a Solenoid on a Metal Ring**\n",
    "    \n",
    "In **Figure 3**, the $I_{2}$ in the ring is proportional to the $\\vec{E_{NC}}$ inside the metal. \n",
    "\n",
    "To drive current in a wire, the wire must encircle a region where the magnetic field is changing. If the wire does not, there will be no emf present.\n",
    "\n",
    "##### <center> Further information\n",
    "\n",
    "#### <center> Faraday's Law\n",
    "-----------\n",
    "    \n",
    "Faraday's Law explains the relationship between $\\frac{-\\Delta \\vec{B_{1}}}{\\Delta t}$ and $|\\vec{E_{NC}}|$.\n",
    "\n",
    ">>>**<u>Question** Which measurement tool can be used to measure the current in a loop surrounding a solenoid? Use **Figure 4** below as a guide.\n",
    "    \n",
    "![](Ammeter.png \"Measuring Current in a Loop\")\n",
    "\n",
    "**<center> Figure 4. Measuring current in a loop**\n",
    "    \n",
    ">>>**<u>Question** If $I_{1}$ is constant, will the tool in the question above register current outside of the solenoid? \n",
    "\n",
    "Use the following PhET simulation to build\n",
    "\n",
    "Using the Excel sheet linked here, change the values of $I_{1}$ to observe the changes in $I_{2}$ of the outer wire. What do you notice?\n",
    "\n",
    "-----------\n",
    "    \n",
    "### <center> Equations\n",
    "-----------\n",
    "    \n",
    "**<center><u>Coulomb Electric Field**\n",
    "    \n",
    "\\begin{equation*}\n",
    "\\vec{E} = \\frac{1}{4\\pi\\epsilon_{0}}\\frac{q}{r^{2}}\\hat{r}\n",
    "\\end{equation*}\n",
    "\n",
    "**<center><u>Force**\n",
    "    \n",
    "\\begin{equation*}\n",
    "\\vec{F} = q\\vec{E}\n",
    "\\end{equation*}\n",
    "    \n",
    "### <center> Application\n",
    "-----------\n",
    "    \n",
    "### <center> Resources\n",
    "-----------\n",
    "\n",
    "Resource | Location\n",
    ":----: | :-----:\n",
    "Chapter 22 | Matter and Interactions\n",
    "\n",
    "### <center> Essential Terms\n",
    "-----------\n",
    "\n",
    "Term | Definition\n",
    " :---: | :--- |\n",
    "Coulomb Electric Field | An electric field produced by charges according to Coulomb's law.\n",
    "Non-Coulomb Electric Field | Associated with time-varying magnetic fields. Outside of a long solenoid, where the magnetic field inside is $B_{1}$, the non-Coulomb electric field is proportional to $\\frac{dB_{1}}{dt}$, and decreases with distance $\\frac{1}{r}$.\n",
    "\n",
    "### <center> References\n",
    "    \n",
    "[Faraday's Law Quote](https://www.goodreads.com/quotes/tag/faraday-s-law)"
   ]
  },
  {
   "cell_type": "code",
   "execution_count": null,
   "metadata": {},
   "outputs": [],
   "source": []
  },
  {
   "cell_type": "code",
   "execution_count": 3,
   "metadata": {},
   "outputs": [
    {
     "ename": "ModuleNotFoundError",
     "evalue": "No module named 'ipynb'",
     "output_type": "error",
     "traceback": [
      "\u001b[1;31m---------------------------------------------------------------------------\u001b[0m",
      "\u001b[1;31mModuleNotFoundError\u001b[0m                       Traceback (most recent call last)",
      "\u001b[1;32m<ipython-input-3-0b0f90a5e558>\u001b[0m in \u001b[0;36m<module>\u001b[1;34m\u001b[0m\n\u001b[1;32m----> 1\u001b[1;33m \u001b[1;32mfrom\u001b[0m \u001b[0mipynb\u001b[0m\u001b[1;33m.\u001b[0m\u001b[0mfs\u001b[0m\u001b[1;33m.\u001b[0m\u001b[0mfull\u001b[0m\u001b[1;33m.\u001b[0m\u001b[0mQuestionSourceCode\u001b[0m \u001b[1;32mimport\u001b[0m \u001b[0mChapter_22\u001b[0m\u001b[1;33m\u001b[0m\u001b[1;33m\u001b[0m\u001b[0m\n\u001b[0m\u001b[0;32m      2\u001b[0m \u001b[1;33m\u001b[0m\u001b[0m\n\u001b[0;32m      3\u001b[0m \u001b[0mnew\u001b[0m \u001b[1;33m=\u001b[0m \u001b[0mChapter_22\u001b[0m\u001b[1;33m.\u001b[0m\u001b[0mq1\u001b[0m\u001b[1;33m(\u001b[0m\u001b[1;33m)\u001b[0m\u001b[1;33m\u001b[0m\u001b[1;33m\u001b[0m\u001b[0m\n",
      "\u001b[1;31mModuleNotFoundError\u001b[0m: No module named 'ipynb'"
     ]
    }
   ],
   "source": [
    "from ipynb.fs.full.QuestionSourceCode import Chapter_22\n",
    "\n",
    "new = Chapter_22.q1()"
   ]
  },
  {
   "cell_type": "code",
   "execution_count": null,
   "metadata": {},
   "outputs": [],
   "source": []
  }
 ],
 "metadata": {
  "kernelspec": {
   "display_name": "Python 3",
   "language": "python",
   "name": "python3"
  },
  "language_info": {
   "codemirror_mode": {
    "name": "ipython",
    "version": 3
   },
   "file_extension": ".py",
   "mimetype": "text/x-python",
   "name": "python",
   "nbconvert_exporter": "python",
   "pygments_lexer": "ipython3",
   "version": "3.7.3"
  }
 },
 "nbformat": 4,
 "nbformat_minor": 2
}
