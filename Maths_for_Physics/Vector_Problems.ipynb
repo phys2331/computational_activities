{
 "cells": [
  {
   "cell_type": "markdown",
   "metadata": {},
   "source": [
    "## <center> Vector Problems\n",
    "    \n",
    "Need a quick review of vectors? Head to the Vectors Guide in the Additional_Resources folder!\n",
    "\n",
    "Try to complete all of the problems by hand first, without any additional resources (WolframAlpha, calculator, etc).\n",
    "\n",
    "___\n",
    "\n",
    "### <center> Formatting\n",
    "    \n",
    "___\n",
    "\n",
    "The system will accept the following formats to register the correct answer:\n",
    "\n",
    "* <x,y,z>\n",
    "\n",
    "* <x, y, z>\n",
    "\n",
    "* <x,y,z> *units*\n",
    "\n",
    "* <x, y, z> *units*\n",
    "\n",
    "* Unit vectors: i + j + k\n",
    "\n",
    "* Powers: *units*^2, x^2\n",
    "\n",
    "    * Example: 4.567 m/s^2\n",
    "\n",
    "* Decimal places: 3\n",
    "\n",
    "    * Example: 4.567 m\n",
    "\n",
    "Replace *units* with the appropriate units. Use the standard base SI units (m for meters, s for seconds, etc.) for the system to process your answer correctly, unless otherwise noted. \n",
    "\n",
    "If you believe you have the correct answer, but the output is saying it is incorrect, contact Dr. Roberts or a Learning Assistant for further troubleshooting.\n",
    "\n",
    "### <center> Import Statements\n",
    "    \n",
    "___\n",
    "\n",
    "Run this code block before answering the questions below. This will import the python script with the answer lists."
   ]
  },
  {
   "cell_type": "code",
   "execution_count": 14,
   "metadata": {},
   "outputs": [],
   "source": [
    "# Load and import python script.\n",
    "%reload_ext autoreload\n",
    "%autoreload 1\n",
    "%aimport VP_SC\n",
    "\n",
    "# Import class from script\n",
    "from VP_SC import Vectors as vp"
   ]
  },
  {
   "cell_type": "markdown",
   "metadata": {},
   "source": [
    "### <center> Adding Vectors\n",
    "    \n",
    "1. \n",
    "\n",
    "\n",
    "<center> $<1, 2, 3> + <2, 3, 4>$"
   ]
  },
  {
   "cell_type": "code",
   "execution_count": 15,
   "metadata": {},
   "outputs": [
    {
     "name": "stdout",
     "output_type": "stream",
     "text": [
      "answer: <3,5,7>\n",
      "\n",
      "Great! Now try it with different numbers.\n"
     ]
    }
   ],
   "source": [
    "vp.q1()"
   ]
  },
  {
   "cell_type": "markdown",
   "metadata": {},
   "source": [
    "2. \n",
    "\n",
    "\n",
    "<center> $<-5, 2, 0> + <-15, -2, 0>$"
   ]
  },
  {
   "cell_type": "code",
   "execution_count": 3,
   "metadata": {},
   "outputs": [
    {
     "name": "stdout",
     "output_type": "stream",
     "text": [
      "answer: <-20, 0, 0>\n",
      "\n",
      "Great! Now try it with different numbers.\n"
     ]
    }
   ],
   "source": [
    "vp.q2()"
   ]
  },
  {
   "cell_type": "markdown",
   "metadata": {},
   "source": [
    "3. \n",
    "\n",
    "\n",
    "<center> $<0, 5, 6> m\\: + <15, 25, 76> mm$"
   ]
  },
  {
   "cell_type": "code",
   "execution_count": 5,
   "metadata": {},
   "outputs": [
    {
     "name": "stdout",
     "output_type": "stream",
     "text": [
      "answer: <0.015,5.025,6.076> m\n",
      "\n",
      "Wonderful!\n"
     ]
    }
   ],
   "source": [
    "vp.q3()"
   ]
  },
  {
   "cell_type": "markdown",
   "metadata": {},
   "source": [
    "4. \n",
    "\n",
    "\n",
    "<center> $<0, 1, 4> + <6, 4, 4>$"
   ]
  },
  {
   "cell_type": "code",
   "execution_count": null,
   "metadata": {},
   "outputs": [],
   "source": [
    "vp.q4()"
   ]
  },
  {
   "cell_type": "markdown",
   "metadata": {},
   "source": [
    "### <center> Subtracting Vectors\n",
    "    \n",
    "1. \n",
    "\n",
    "\n",
    "<center> $<1, 2, 3> - <5, 6, 7>$"
   ]
  },
  {
   "cell_type": "code",
   "execution_count": null,
   "metadata": {},
   "outputs": [],
   "source": [
    "vp.q5()"
   ]
  },
  {
   "cell_type": "markdown",
   "metadata": {},
   "source": [
    "2. \n",
    "\n",
    "\n",
    "<center> $<3, 6, 9> - <3, 2, 1>$"
   ]
  },
  {
   "cell_type": "code",
   "execution_count": null,
   "metadata": {},
   "outputs": [],
   "source": [
    "vp.q6()"
   ]
  },
  {
   "cell_type": "markdown",
   "metadata": {},
   "source": [
    "3. Subtract the following. What is the answer in meters?\n",
    "\n",
    "\n",
    "<center> $<10, 16, 35> cm\\:- <56, 14, 12> mm.$"
   ]
  },
  {
   "cell_type": "code",
   "execution_count": null,
   "metadata": {},
   "outputs": [],
   "source": [
    "vp.q7()"
   ]
  },
  {
   "cell_type": "markdown",
   "metadata": {},
   "source": [
    "4. Subtract the following. What is the answer in N/C?\n",
    "\n",
    "\n",
    "<center> $<67, 15, 5> N/C\\:- <5, 8, 2> kN/C.$"
   ]
  },
  {
   "cell_type": "code",
   "execution_count": null,
   "metadata": {},
   "outputs": [],
   "source": [
    "vp.q8()"
   ]
  },
  {
   "cell_type": "markdown",
   "metadata": {},
   "source": [
    "5. What is the above answer in V/m?"
   ]
  },
  {
   "cell_type": "code",
   "execution_count": null,
   "metadata": {},
   "outputs": [],
   "source": [
    "vp.q9()"
   ]
  },
  {
   "cell_type": "markdown",
   "metadata": {},
   "source": [
    "### <center> Multiplying a Vector by a Scalar\n",
    "\n",
    "1. What is $5\\vec{v}$?\n",
    "\n",
    "\n",
    "<center> $\\vec{v} = <6, 7, 8> m/s$"
   ]
  },
  {
   "cell_type": "code",
   "execution_count": null,
   "metadata": {},
   "outputs": [],
   "source": [
    "vp.q10()"
   ]
  },
  {
   "cell_type": "markdown",
   "metadata": {},
   "source": [
    "2. What is $3\\vec{a}$?\n",
    "\n",
    "\n",
    "<center> $\\vec{a} = <8, 2, 1> m/s^{2}$ "
   ]
  },
  {
   "cell_type": "code",
   "execution_count": null,
   "metadata": {},
   "outputs": [],
   "source": [
    "vp.q11()"
   ]
  },
  {
   "cell_type": "markdown",
   "metadata": {},
   "source": [
    "3. What is $-6\\vec{x}$?\n",
    "\n",
    "\n",
    "<center> $\\vec{x} = <3, 4, 5>$"
   ]
  },
  {
   "cell_type": "code",
   "execution_count": null,
   "metadata": {},
   "outputs": [],
   "source": [
    "vp.q16()"
   ]
  },
  {
   "cell_type": "markdown",
   "metadata": {},
   "source": [
    "### <center> Magnitude\n",
    "    \n",
    "1. What is |$\\vec{E}$|?\n",
    "\n",
    "\n",
    "<center> $\\vec{E} = <5, 2, 1> N/C$"
   ]
  },
  {
   "cell_type": "code",
   "execution_count": null,
   "metadata": {},
   "outputs": [],
   "source": [
    "vp.q12()"
   ]
  },
  {
   "cell_type": "markdown",
   "metadata": {},
   "source": [
    "2. What is |$\\vec{x}$|?\n",
    "\n",
    "\n",
    "<center> $\\vec{x} = <0, 5, 5>$"
   ]
  },
  {
   "cell_type": "code",
   "execution_count": null,
   "metadata": {},
   "outputs": [],
   "source": [
    "vp.q13()"
   ]
  },
  {
   "cell_type": "markdown",
   "metadata": {},
   "source": [
    "3. There are two charged particles that contribute to $\\vec{E}_{net}$. What is the magnitude of $\\vec{E}_{2}$?\n",
    "\n",
    "\n",
    "<center> $\\vec{E}_{1} = <1, 3, 2> V/m$\n",
    "    \n",
    "<center> $\\vec{E}_{net} = <4, 5, 6> V/m$"
   ]
  },
  {
   "cell_type": "code",
   "execution_count": null,
   "metadata": {},
   "outputs": [],
   "source": [
    "vp.q14()"
   ]
  },
  {
   "cell_type": "markdown",
   "metadata": {},
   "source": [
    "### <center> Unit Vectors\n",
    "    \n",
    "1. What is $\\hat{r}$?\n",
    "\n",
    "\n",
    "<center> $\\vec{r} = <7, 6, 5> m$ "
   ]
  },
  {
   "cell_type": "code",
   "execution_count": null,
   "metadata": {},
   "outputs": [],
   "source": [
    "vp.q15()"
   ]
  },
  {
   "cell_type": "markdown",
   "metadata": {},
   "source": [
    "### <center> Dot Product\n",
    "    \n",
    "1. What is $\\vec{x} \\bullet \\vec{y}$?\n",
    "\n",
    "\n",
    "<center> $\\vec{x} = <1, 6, -2>$\n",
    "    \n",
    "<center> $\\vec{y} = <2, -1, 3>$"
   ]
  },
  {
   "cell_type": "code",
   "execution_count": null,
   "metadata": {},
   "outputs": [],
   "source": [
    "vp.q17()"
   ]
  },
  {
   "cell_type": "markdown",
   "metadata": {},
   "source": [
    "2. What is $\\vec{m} \\bullet \\vec{n}$?\n",
    "\n",
    "\n",
    "<center> $\\vec{m} = 2\\hat{i} + 2\\hat{j} - \\hat{k}$. \n",
    "\n",
    "<center> $\\vec{n} = \\hat{i} - 6\\hat{j} + 2\\hat{k}$.  "
   ]
  },
  {
   "cell_type": "code",
   "execution_count": null,
   "metadata": {},
   "outputs": [],
   "source": [
    "vp.q18()"
   ]
  },
  {
   "cell_type": "markdown",
   "metadata": {},
   "source": [
    "3. The angle between $\\vec{b}$ and $\\vec{c}$ is $30^{\\bullet}$. What is $\\vec{b} \\bullet \\vec{c}$?\n",
    "\n",
    "<center> |$\\vec{b}$| = 6\n",
    "\n",
    "<center> |$\\vec{c}$| = 10"
   ]
  },
  {
   "cell_type": "code",
   "execution_count": null,
   "metadata": {},
   "outputs": [],
   "source": [
    "vp.q19()"
   ]
  },
  {
   "cell_type": "markdown",
   "metadata": {},
   "source": [
    "### <center> Cross Product\n",
    "\n",
    "1. What is $\\vec{w} \\times \\vec{v}$?\n",
    "\n",
    "\n",
    "<center> $\\vec{w} = <2, 4, 6>$\n",
    "\n",
    "<center> $\\vec{v} = <3, 2, 5>$"
   ]
  },
  {
   "cell_type": "code",
   "execution_count": null,
   "metadata": {},
   "outputs": [],
   "source": [
    "vp.q20()"
   ]
  },
  {
   "cell_type": "markdown",
   "metadata": {},
   "source": [
    "2. What is $\\vec{t} \\times \\vec{v}$?\n",
    "\n",
    "\n",
    "<center> $\\vec{t} = -\\hat{i}- 5\\hat{j} + 6\\hat{k}$\n",
    "\n",
    "<center> $\\vec{v} = 4\\hat{i}- 5\\hat{j} + 9\\hat{k}$"
   ]
  },
  {
   "cell_type": "code",
   "execution_count": null,
   "metadata": {},
   "outputs": [],
   "source": [
    "vp.q21()"
   ]
  },
  {
   "cell_type": "markdown",
   "metadata": {},
   "source": [
    "3. What is $\\vec{v} \\times \\vec{t}$?"
   ]
  },
  {
   "cell_type": "code",
   "execution_count": null,
   "metadata": {},
   "outputs": [],
   "source": [
    "vp.q22()"
   ]
  }
 ],
 "metadata": {
  "kernelspec": {
   "display_name": "Python 3",
   "language": "python",
   "name": "python3"
  },
  "language_info": {
   "codemirror_mode": {
    "name": "ipython",
    "version": 3
   },
   "file_extension": ".py",
   "mimetype": "text/x-python",
   "name": "python",
   "nbconvert_exporter": "python",
   "pygments_lexer": "ipython3",
   "version": "3.7.4"
  }
 },
 "nbformat": 4,
 "nbformat_minor": 2
}
