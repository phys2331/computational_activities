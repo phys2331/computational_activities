{
 "cells": [
  {
   "cell_type": "markdown",
   "metadata": {},
   "source": [
    "## <center> Homework 8 Guide\n",
    "    \n",
    "___\n",
    "    \n",
    "### <center> 21.06\n",
    "    \n",
    "___\n",
    "    \n",
    "![](Graphics/P21.06.PNG \"Problem 21.06 - Matter and Interactions\")\n",
    "\n",
    "\n",
    "### Important information\n",
    "\n",
    "* Need: Electric flux on the disk.\n",
    "\n",
    "* Given information:\n",
    "\n",
    "    * Radius of disk\n",
    "    \n",
    "    * Electric field is uniform with a given magnitude\n",
    "    \n",
    "    * Angle of the electric field with respect to the disk\n",
    "    \n",
    "* Key equations:\n",
    "\n",
    "\\begin{equation*}\n",
    "\\phi_{E} = \\int \\vec{E} \\bullet d\\vec{A} = \\Sigma \\vec{E} \\bullet \\hat{n} \\Delta A = |E||A|cos(\\theta)\n",
    "\\end{equation*}\n",
    "    \n",
    "* Things to think about:\n",
    "    \n"
   ]
  },
  {
   "cell_type": "code",
   "execution_count": null,
   "metadata": {},
   "outputs": [],
   "source": []
  }
 ],
 "metadata": {
  "kernelspec": {
   "display_name": "Python 3",
   "language": "python",
   "name": "python3"
  },
  "language_info": {
   "codemirror_mode": {
    "name": "ipython",
    "version": 3
   },
   "file_extension": ".py",
   "mimetype": "text/x-python",
   "name": "python",
   "nbconvert_exporter": "python",
   "pygments_lexer": "ipython3",
   "version": "3.7.4"
  }
 },
 "nbformat": 4,
 "nbformat_minor": 4
}
