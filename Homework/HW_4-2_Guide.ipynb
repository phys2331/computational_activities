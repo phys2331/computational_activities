{
 "cells": [
  {
   "cell_type": "markdown",
   "metadata": {},
   "source": [
    "# <center> Homework 4-2 Guide\n",
    "    \n",
    "___\n",
    "\n",
    "## <center> 18.26   \n",
    "___\n",
    "    \n",
    "### <center> Skills Involved\n",
    "    \n",
    "Potential\n",
    "\n",
    "* Defintion\n",
    "\n",
    "Integration\n",
    "\n",
    "* Setting up a path integral along a straight line.\n",
    "\n",
    "Dot Products\n",
    "\n",
    "Integration\n",
    "\n",
    "### <center> Problem\n",
    "\n",
    "![](Graphics/P16.33.png \"Problem 16.33 - Matter and Interactions\")\n",
    "\n",
    "### <center> Important Information\n",
    "    \n",
    "**Objective:** Find the magnitude of the electric field in the given region.\n",
    "\n",
    "**Given Information:**\n",
    "\n",
    "* Two locations (A and B) are in a uniform electric field.\n",
    "\n",
    "* Change in potential.\n",
    "\n",
    "* Distance between A and B.\n",
    "\n",
    "**Key Equations:**\n",
    "\n",
    "**References:**\n",
    "\n",
    "**Things to think about:**"
   ]
  }
 ],
 "metadata": {
  "kernelspec": {
   "display_name": "Python 3",
   "language": "python",
   "name": "python3"
  },
  "language_info": {
   "codemirror_mode": {
    "name": "ipython",
    "version": 3
   },
   "file_extension": ".py",
   "mimetype": "text/x-python",
   "name": "python",
   "nbconvert_exporter": "python",
   "pygments_lexer": "ipython3",
   "version": "3.7.4"
  }
 },
 "nbformat": 4,
 "nbformat_minor": 2
}
