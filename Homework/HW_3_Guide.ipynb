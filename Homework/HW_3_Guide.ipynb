{
 "cells": [
  {
   "cell_type": "markdown",
   "metadata": {},
   "source": [
    "## <center> Homework 3 Guide\n",
    "    \n",
    "___\n",
    "\n",
    "### <center> 13.47\n",
    "    \n",
    "___\n",
    "\n",
    "See HW_2_Guide\n",
    "\n",
    "___\n",
    "\n",
    "### <center> 15.22\n",
    "    \n",
    "___\n",
    "\n",
    "See HW_2_Guide\n",
    "\n",
    "___\n",
    "\n",
    "### <center> 15.28\n",
    "    \n",
    "___\n",
    "\n",
    "See HW_2_Guide\n",
    "\n",
    "___\n",
    "\n",
    "### <center> 14.34\n",
    "    \n",
    "___\n",
    "\n",
    "There is a region where an electric field points to the right, due to charged particles somewhere. A neutral carbon atom is placed inside this region. Draw a diagram of the situation. Which of the following statements are correct? Check all that apply.\n",
    "\n",
    "### <center> Important Information\n",
    "    \n",
    "**Objective:** Select the correct statements based on the"
   ]
  }
 ],
 "metadata": {
  "kernelspec": {
   "display_name": "Python 3",
   "language": "python",
   "name": "python3"
  },
  "language_info": {
   "codemirror_mode": {
    "name": "ipython",
    "version": 3
   },
   "file_extension": ".py",
   "mimetype": "text/x-python",
   "name": "python",
   "nbconvert_exporter": "python",
   "pygments_lexer": "ipython3",
   "version": "3.7.4"
  }
 },
 "nbformat": 4,
 "nbformat_minor": 2
}
