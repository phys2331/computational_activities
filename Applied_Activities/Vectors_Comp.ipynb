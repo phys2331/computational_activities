{
 "cells": [
  {
   "cell_type": "markdown",
   "metadata": {},
   "source": [
    "## <Center> Computational Vector Problems\n",
    "    \n",
    "___\n",
    "\n",
    "### <center> Magnitude\n",
    "    \n",
    "___\n",
    "    \n",
    "1. The vector $\\vec{a} = <5\\times10^{7},3.2\\times10^{8},6.4\\times10^{7}> m/s^{2}$. What is $|\\vec{a}|$?\n",
    "\n",
    "Remember that $|\\vec{r}| = \\sqrt{r^{2}_{x} + r^{2}_{y} + r^{2}_{z}}$.\n",
    "\n",
    "The code below is split into 4 sections to solve the answer. \n",
    "\n",
    "##### <center> Import statements\n",
    "\n",
    "This is the main area to import python packages, modules, files, etc. that will be used to run the script and get the correct answer.\n",
    "\n",
    "NumPy, or numpy, is a popular package for science computation in python.\n",
    "    \n",
    "**import** numpy **as** np:\n",
    "\n",
    "   * allows you to use the modules, functions, and objects within the package. In this problem, we need to take the square root, so np.sqrt() can be used.\n",
    "\n",
    "##### <center> Given variables\n",
    "\n",
    "In this section, organize the variables that are given in the problem.\n",
    "\n",
    "The format is generally: variable = number\n",
    "    \n",
    "Note that no units are shown here.\n",
    "    \n",
    "##### <center> Calculate\n",
    "    \n",
    "Use the variables listed to solve the problem. Set the problem equal to a unique new variable that you can call later.\n",
    "\n",
    "   * new_variable = math\n",
    "    \n",
    "##### <center> Print the answer\n",
    "    \n",
    "In this section, take the new variable(s) in the calculation section and output the answer by *printing*. \n",
    "\n",
    "print(new_variable)\n",
    "        \n",
    "   * This will print *only* what the new_variable is equal to, typically a number or set of numbers.\n",
    "        \n",
    "print(\"This answer is =\", new_variable, \"units\")\n",
    "    \n",
    "   * This will print whatever is written between \" \" and the variable. To add a sentence with the new_variable within it, separate the strings from the variables by adding commas between them.\n",
    "   \n",
    "To find the answer to question one, press the Run button in the Jupyter notebook toolbar. The answer will output below the code cell."
   ]
  },
  {
   "cell_type": "code",
   "execution_count": 6,
   "metadata": {},
   "outputs": [
    {
     "name": "stdout",
     "output_type": "stream",
     "text": [
      "The magnitude = 330145422.503478 m/s/s\n"
     ]
    }
   ],
   "source": [
    "# Import statements\n",
    "\n",
    "import numpy as np\n",
    "\n",
    "# Given variables.\n",
    "\n",
    "x = 5*10**7\n",
    "y = 3.2*10**8\n",
    "z = 6.4*10**7\n",
    "\n",
    "# Calculate.\n",
    "\n",
    "mag_a = np.sqrt(x**2 + y**2 + z**2)\n",
    "\n",
    "# Print the answer.\n",
    "\n",
    "print(\"The magnitude =\", mag_a, \"m/s/s\")"
   ]
  },
  {
   "cell_type": "markdown",
   "metadata": {},
   "source": [
    "Note that the variables written in scientific notation can be used in python in several different ways.\n",
    "\n",
    "$5\\times10^{7}$ = 5 * 10 ** 7 where * multiplies numbers and ** raises a number to an exponent.\n",
    "\n",
    "Functions can also be used, such as math.pow(#,exp). While there are usually multiple ways to orchestrate the code, some may be faster and/or allow different outputs. Use what is best for you and the expected output.\n",
    "\n",
    "Try problem 2 on your own. Some information is still included to get you started. Cross-check your answer by doing the problem by hand or in a computer program like Excel or WolframAlpha.\n",
    "\n",
    "2. The vector $\\vec{v} = <-7\\times10^{7},6.2\\times10^{6},4.2\\times10^{5}> m/s$. What is $|\\vec{v}|$?"
   ]
  },
  {
   "cell_type": "code",
   "execution_count": null,
   "metadata": {},
   "outputs": [],
   "source": [
    "# Import statements\n",
    "\n",
    "import numpy as np\n",
    "\n",
    "# Given variables.\n",
    "\n",
    "x = \n",
    "y = \n",
    "z = \n",
    "\n",
    "# Calculate.\n",
    "\n",
    "mag_v = np.sqrt()\n",
    "\n",
    "# Print the answer.\n",
    "\n",
    "print(\"The magnitude =\", mag_v, \"m/s\")"
   ]
  },
  {
   "cell_type": "markdown",
   "metadata": {},
   "source": [
    "Another way to find the magnitude is by using the NumPy array and linear algebra functions. Below is problem 1. Note the format for each function."
   ]
  },
  {
   "cell_type": "code",
   "execution_count": 7,
   "metadata": {},
   "outputs": [
    {
     "name": "stdout",
     "output_type": "stream",
     "text": [
      "The magnitude = 330145422.503478 m/s/s\n"
     ]
    }
   ],
   "source": [
    "# Import\n",
    "\n",
    "import numpy as np\n",
    "\n",
    "# Variables.\n",
    "\n",
    "a = np.array([5*10**7,3.2*10**8,6.4*10**7])\n",
    "\n",
    "# Print.\n",
    "\n",
    "print(\"The magnitude =\", np.linalg.norm(a), \"m/s/s\")"
   ]
  },
  {
   "cell_type": "markdown",
   "metadata": {},
   "source": [
    "Notice that the calculation section is missing and that the function can be used in the print line. There are many different ways to output the same answer. Use a method that is best for you.\n",
    "\n",
    "Try problem 3 from scratch in the cell below. Use any method from above to solve.\n",
    "\n",
    "3. The vector $\\vec{x} = <-4.3\\times10^{4},0,7.7\\times10^{3}>$. What is $|\\vec{x}|$?"
   ]
  },
  {
   "cell_type": "code",
   "execution_count": null,
   "metadata": {},
   "outputs": [],
   "source": [
    "# Import.\n",
    "\n",
    "# Variables.\n",
    "\n",
    "# Calculate.\n",
    "\n",
    "# Print."
   ]
  },
  {
   "cell_type": "markdown",
   "metadata": {},
   "source": [
    "___\n",
    "\n",
    "### <center> Electric Field\n",
    "    \n",
    "___\n",
    "    \n",
    "\n"
   ]
  }
 ],
 "metadata": {
  "kernelspec": {
   "display_name": "Python 3",
   "language": "python",
   "name": "python3"
  },
  "language_info": {
   "codemirror_mode": {
    "name": "ipython",
    "version": 3
   },
   "file_extension": ".py",
   "mimetype": "text/x-python",
   "name": "python",
   "nbconvert_exporter": "python",
   "pygments_lexer": "ipython3",
   "version": "3.7.4"
  }
 },
 "nbformat": 4,
 "nbformat_minor": 4
}
