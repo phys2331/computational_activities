{
 "cells": [
  {
   "cell_type": "markdown",
   "metadata": {},
   "source": [
    "## <center> Applied Faraday's Law\n",
    "-----------\n",
    "    \n",
    "### <center> Objectives\n",
    "-----------\n",
    "\n",
    "* Calculate the magnitude and direction of the electric field associated with a time-varying magnetic field.\n",
    "\n",
    "* Incorporate Python to solve problems.\n",
    "\n",
    "-----------\n",
    "\n",
    "### <center> Prior Information\n",
    "-----------\n",
    "\n",
    "Information | Chapter\n",
    ":----- | :-----:\n",
    "Stationary charges make electric fields | #\n",
    "Electric fields affect other charges | #\n",
    "Moving charges make magnetic fields as well as electric fields | #\n",
    "Magnetic fields affect other charges | #\n",
    "\n",
    "-----------\n",
    "\n",
    "### <center> Import Statements\n",
    "-----------\n",
    "Run this code block before answering the questions below. This will import the python script with the answer lists."
   ]
  },
  {
   "cell_type": "code",
   "execution_count": null,
   "metadata": {},
   "outputs": [],
   "source": [
    "# Load and import python script.\n",
    "%reload_ext autoreload\n",
    "%autoreload 1\n",
    "%aimport QuestionSourceCode22\n",
    "# Import class from script\n",
    "from QuestionSourceCode22 import Chapter_22 as c22"
   ]
  },
  {
   "cell_type": "markdown",
   "metadata": {},
   "source": [
    "### <center> Conceptual Questions\n",
    "-----------\n",
    "\n",
    "1. If the curly electric field effects charges in the same way as a non-curly electric field, which equation can be used to find the force on an object caused by a curly electric field?"
   ]
  },
  {
   "cell_type": "code",
   "execution_count": null,
   "metadata": {},
   "outputs": [],
   "source": [
    "c22.q1()"
   ]
  },
  {
   "cell_type": "markdown",
   "metadata": {},
   "source": [
    "2. Since the curly electric field is not associated with stationary charges, it is a non-Coulomb field *Insert Python Quiz Question* $\\vec{E_{NC}}$. Additionally, a \"round-trip\" integral of a curly electric field will not be equal to zero ($\\oint \\vec{E_{NC}}\\cdot\\vec{dl}\\neq 0$), like in the case of an electric field due to stationary charges."
   ]
  },
  {
   "cell_type": "code",
   "execution_count": null,
   "metadata": {},
   "outputs": [],
   "source": []
  },
  {
   "cell_type": "code",
   "execution_count": null,
   "metadata": {},
   "outputs": [],
   "source": []
  },
  {
   "cell_type": "code",
   "execution_count": null,
   "metadata": {},
   "outputs": [],
   "source": [
    "c22.q2()"
   ]
  },
  {
   "cell_type": "markdown",
   "metadata": {},
   "source": [
    "3. Based on **Figure 2** below, what can you deduce about what determines the direction of $\\vec{E_{NC}}$? *direction of B1*, *directon of the rate of change of B1*, *Insert Python question with answer explanation*."
   ]
  },
  {
   "cell_type": "code",
   "execution_count": null,
   "metadata": {},
   "outputs": [],
   "source": [
    "c22.q3()"
   ]
  },
  {
   "cell_type": "markdown",
   "metadata": {},
   "source": [
    "4. If $\\vec{E_{NC}}$ is curling to the left, which direction is $\\frac{-d\\vec{B_{1}}}{dt}$ pointing?"
   ]
  },
  {
   "cell_type": "code",
   "execution_count": null,
   "metadata": {},
   "outputs": [],
   "source": [
    "c22.q4()"
   ]
  },
  {
   "cell_type": "markdown",
   "metadata": {},
   "source": [
    "5. Which measurement tool can be used to measure the current in a loop surrounding a solenoid? Use **Figure 4** below as a guide.\n",
    "    \n",
    "![](Ammeter.png \"Measuring Current in a Loop\")\n",
    "\n",
    "**<center> Figure 4. Measuring current in a loop**"
   ]
  },
  {
   "cell_type": "code",
   "execution_count": null,
   "metadata": {},
   "outputs": [],
   "source": []
  },
  {
   "cell_type": "markdown",
   "metadata": {},
   "source": [
    "6. If $I_{1}$ is constant, will the tool in the question above register current outside of the solenoid? "
   ]
  },
  {
   "cell_type": "code",
   "execution_count": null,
   "metadata": {},
   "outputs": [],
   "source": []
  },
  {
   "cell_type": "markdown",
   "metadata": {},
   "source": [
    "Use the following PhET simulation to build\n",
    "\n",
    "Using the Excel sheet linked here, change the values of $I_{1}$ to observe the changes in $I_{2}$ of the outer wire. What do you notice?\n",
    "\n",
    "-----------\n",
    "    \n",
    "### <center> Equations\n",
    "-----------\n",
    "    \n",
    "**<center><u>Coulomb Electric Field**\n",
    "    \n",
    "\\begin{equation*}\n",
    "\\vec{E} = \\frac{1}{4\\pi\\epsilon_{0}}\\frac{q}{r^{2}}\\hat{r}\n",
    "\\end{equation*}\n",
    "\n",
    "**<center><u>Force**\n",
    "    \n",
    "\\begin{equation*}\n",
    "\\vec{F} = q\\vec{E}\n",
    "\\end{equation*}\n",
    "    \n",
    "    \n",
    "### <center> Resources\n",
    "-----------\n",
    "\n",
    "Resource | Location\n",
    ":----: | :-----:\n",
    "Chapter 22 | Matter and Interactions\n",
    "\n",
    "### <center> Essential Terms\n",
    "-----------\n",
    "\n",
    "Term | Definition\n",
    " :---: | :--- |\n",
    "Coulomb Electric Field | An electric field produced by charges according to Coulomb's law.\n",
    "Non-Coulomb Electric Field | Associated with time-varying magnetic fields. Outside of a long solenoid, where the magnetic field inside is $B_{1}$, the non-Coulomb electric field is proportional to $\\frac{dB_{1}}{dt}$, and decreases with distance $\\frac{1}{r}$.\n",
    "\n",
    "### <center> References\n",
    "    \n",
    "[Faraday's Law Quote](https://www.goodreads.com/quotes/tag/faraday-s-law)"
   ]
  },
  {
   "cell_type": "code",
   "execution_count": null,
   "metadata": {},
   "outputs": [],
   "source": [
    "c22.grade()"
   ]
  },
  {
   "cell_type": "code",
   "execution_count": null,
   "metadata": {},
   "outputs": [],
   "source": []
  },
  {
   "cell_type": "code",
   "execution_count": null,
   "metadata": {},
   "outputs": [],
   "source": []
  }
 ],
 "metadata": {
  "kernelspec": {
   "display_name": "Python 3",
   "language": "python",
   "name": "python3"
  },
  "language_info": {
   "codemirror_mode": {
    "name": "ipython",
    "version": 3
   },
   "file_extension": ".py",
   "mimetype": "text/x-python",
   "name": "python",
   "nbconvert_exporter": "python",
   "pygments_lexer": "ipython3",
   "version": "3.7.3"
  }
 },
 "nbformat": 4,
 "nbformat_minor": 2
}
