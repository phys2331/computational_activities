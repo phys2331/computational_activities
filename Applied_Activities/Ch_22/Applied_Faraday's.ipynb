{
 "cells": [
  {
   "cell_type": "markdown",
   "metadata": {},
   "source": [
    "## <center> Faraday's Law Application\n",
    "-----------\n",
    "    \n",
    "### <center> Objectives\n",
    "-----------\n",
    "\n",
    "* Calculate the magnitude and direction of the electric field associated with a time-varying magnetic field.\n",
    "\n",
    "* Incorporate Python to solve problems.\n",
    "\n",
    "-----------\n",
    "\n",
    "### <center> Prior Information\n",
    "-----------\n",
    "\n",
    "Information | Chapter\n",
    ":----- | :-----:\n",
    "Stationary charges make electric fields | #\n",
    "Electric fields affect other charges | #\n",
    "Moving charges make magnetic fields as well as electric fields | #\n",
    "Magnetic fields affect other charges | #\n",
    "\n",
    "-----------\n",
    "\n",
    "### <center> Quantitative Questions\n",
    "-----------\n",
    "\n",
    "-----------\n",
    "\n",
    "### <center> Conceptual Questions\n",
    "-----------\n",
    "    \n",
    ">**<u>Question** If the curly electric field effects charges in the same way as a non-curly electric field, which equation can be used to find the force on an object caused by a curly electric field?"
   ]
  },
  {
   "cell_type": "code",
   "execution_count": null,
   "metadata": {},
   "outputs": [],
   "source": []
  },
  {
   "cell_type": "markdown",
   "metadata": {},
   "source": [
    ">**<u>Question** Since the curly electric field is not associated with stationary charges, it is a non-Coulomb field *Insert Python Quiz Question* $\\vec{E_{NC}}$. Additionally, a \"round-trip\" integral of a curly electric field will not be equal to zero ($\\oint \\vec{E_{NC}}\\cdot\\vec{dl}\\neq 0$), like in the case of an electric field due to stationary charges."
   ]
  },
  {
   "cell_type": "code",
   "execution_count": null,
   "metadata": {},
   "outputs": [],
   "source": []
  },
  {
   "cell_type": "markdown",
   "metadata": {},
   "source": [
    ">**<u>Question** Based on **Figure 2** below, what can you deduce about what determines the direction of $\\vec{E_{NC}}$? *direction of B1*, *directon of the rate of change of B1*, *Insert Python question with answer explanation*."
   ]
  },
  {
   "cell_type": "code",
   "execution_count": null,
   "metadata": {},
   "outputs": [],
   "source": []
  },
  {
   "cell_type": "markdown",
   "metadata": {},
   "source": [
    ">**<u>Question** If $\\vec{E_{NC}}$ is curling to the left, which direction is $\\frac{-d\\vec{B_{1}}}{dt}$ pointing?"
   ]
  },
  {
   "cell_type": "code",
   "execution_count": null,
   "metadata": {},
   "outputs": [],
   "source": []
  },
  {
   "cell_type": "markdown",
   "metadata": {},
   "source": [
    ">**<u>Question** Which measurement tool can be used to measure the current in a loop surrounding a solenoid? Use **Figure 4** below as a guide."
   ]
  }
 ],
 "metadata": {
  "kernelspec": {
   "display_name": "Python 3",
   "language": "python",
   "name": "python3"
  },
  "language_info": {
   "codemirror_mode": {
    "name": "ipython",
    "version": 3
   },
   "file_extension": ".py",
   "mimetype": "text/x-python",
   "name": "python",
   "nbconvert_exporter": "python",
   "pygments_lexer": "ipython3",
   "version": "3.7.0"
  }
 },
 "nbformat": 4,
 "nbformat_minor": 2
}
